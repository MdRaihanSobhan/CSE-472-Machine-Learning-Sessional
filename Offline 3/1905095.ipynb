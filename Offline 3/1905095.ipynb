{
 "cells": [
  {
   "cell_type": "markdown",
   "metadata": {},
   "source": [
    "## 1. Importing Libraries"
   ]
  },
  {
   "cell_type": "code",
   "execution_count": 3,
   "metadata": {},
   "outputs": [],
   "source": [
    "import numpy as np\n",
    "import pandas as pd\n",
    "import matplotlib.pyplot as plt\n",
    "import seaborn as sns\n",
    "import pickle\n",
    "from sklearn.metrics import confusion_matrix, f1_score\n",
    "from torchvision.datasets import FashionMNIST\n",
    "from torchvision.transforms import ToTensor\n"
   ]
  },
  {
   "cell_type": "markdown",
   "metadata": {},
   "source": [
    "## 2. Loading the data"
   ]
  },
  {
   "cell_type": "code",
   "execution_count": 4,
   "metadata": {},
   "outputs": [],
   "source": [
    "from torchvision import datasets, transforms\n",
    "\n",
    "# Load FashionMNIST data\n",
    "transform = transforms.Compose([ToTensor()])\n",
    "train_data = FashionMNIST(root=\"data\", train=True, download=True, transform=transform)\n",
    "test_data = FashionMNIST(root=\"data\", train=False, download=True, transform=transform)\n",
    "\n",
    "X_train = np.array([img.numpy().squeeze() for img, _ in train_data])\n",
    "y_train = np.array([label for _, label in train_data])\n",
    "X_test = np.array([img.numpy().squeeze() for img, _ in test_data])\n",
    "y_test = np.array([label for _, label in test_data])\n",
    "\n",
    "X_train = X_train.reshape(X_train.shape[0], -1)\n",
    "X_test = X_test.reshape(X_test.shape[0], -1)\n"
   ]
  },
  {
   "cell_type": "markdown",
   "metadata": {},
   "source": [
    "## 3. Defining Neural Network"
   ]
  },
  {
   "cell_type": "markdown",
   "metadata": {},
   "source": [
    "## 3.1 Dense Layer"
   ]
  },
  {
   "cell_type": "code",
   "execution_count": 5,
   "metadata": {},
   "outputs": [],
   "source": [
    "class DenseLayer:\n",
    "    def __init__(self, input_dim, output_dim):\n",
    "        self.weights = np.random.randn(input_dim, output_dim) * 0.01\n",
    "        self.biases = np.zeros((1, output_dim))\n",
    "        \n",
    "    def forward(self, inputs):\n",
    "        self.inputs = inputs\n",
    "        self.output = np.dot(inputs, self.weights) + self.biases\n",
    "\n",
    "    def backward(self, d_output):\n",
    "        self.d_weights = np.dot(self.inputs.T, d_output)\n",
    "        self.d_biases = np.sum(d_output, axis=0, keepdims=True)\n",
    "        self.d_inputs = np.dot(d_output, self.weights.T)\n"
   ]
  },
  {
   "cell_type": "markdown",
   "metadata": {},
   "source": [
    "## 3.2 Batch Normalization"
   ]
  },
  {
   "cell_type": "code",
   "execution_count": 6,
   "metadata": {},
   "outputs": [],
   "source": [
    "class BatchNormalization:\n",
    "    def __init__(self, input_dim, epsilon=1e-8, momentum=0.9):\n",
    "        self.gamma = np.ones((1, input_dim))\n",
    "        self.beta = np.zeros((1, input_dim))\n",
    "        self.epsilon = epsilon\n",
    "        self.momentum = momentum\n",
    "        \n",
    "        self.running_mean = np.zeros((1, input_dim))\n",
    "        self.running_variance = np.zeros((1, input_dim))\n",
    "\n",
    "    def forward(self, inputs, training=True):\n",
    "        self.inputs = inputs\n",
    "        if training:\n",
    "\n",
    "            self.mean = np.mean(inputs, axis=0, keepdims=True)\n",
    "            self.variance = np.var(inputs, axis=0, keepdims=True)\n",
    "            \n",
    "            self.normalized = (inputs - self.mean) / np.sqrt(self.variance + self.epsilon)\n",
    "            \n",
    "            self.output = self.gamma * self.normalized + self.beta\n",
    "            \n",
    "            self.running_mean = self.momentum * self.running_mean + (1 - self.momentum) * self.mean\n",
    "            self.running_variance = self.momentum * self.running_variance + (1 - self.momentum) * self.variance\n",
    "        else:\n",
    "            self.normalized = (inputs - self.running_mean) / np.sqrt(self.running_variance + self.epsilon)\n",
    "            self.output = self.gamma * self.normalized + self.beta\n",
    "\n",
    "    def backward(self, d_output):\n",
    "        batch_size = self.inputs.shape[0]\n",
    "        \n",
    "        self.d_beta = np.sum(d_output, axis=0)\n",
    "        self.d_gamma = np.sum(d_output * self.normalized, axis=0)\n",
    "        \n",
    "        d_normalized = d_output * self.gamma\n",
    "        \n",
    "        d_variance = np.sum(d_normalized * (self.inputs - self.mean) * -0.5 * (self.variance + self.epsilon) ** (-1.5), axis=0)\n",
    "        \n",
    "        d_mean = np.sum(d_normalized * -1 / np.sqrt(self.variance + self.epsilon), axis=0) + \\\n",
    "                 d_variance * np.mean(-2 * (self.inputs - self.mean), axis=0)\n",
    "        \n",
    "        self.d_inputs = d_normalized / np.sqrt(self.variance + self.epsilon) + \\\n",
    "                        d_variance * 2 * (self.inputs - self.mean) / batch_size + \\\n",
    "                        d_mean / batch_size\n"
   ]
  },
  {
   "cell_type": "markdown",
   "metadata": {},
   "source": [
    "## 3.3 Activation (ReLU)"
   ]
  },
  {
   "cell_type": "code",
   "execution_count": 7,
   "metadata": {},
   "outputs": [],
   "source": [
    "class ReLU:\n",
    "    def forward(self, inputs):\n",
    "        self.inputs = inputs\n",
    "        self.output = np.maximum(0, inputs)\n",
    "\n",
    "    def backward(self, d_output):\n",
    "        self.d_inputs = d_output.copy()\n",
    "        self.d_inputs[self.inputs <= 0] = 0\n"
   ]
  },
  {
   "cell_type": "markdown",
   "metadata": {},
   "source": [
    "## 3.4 Dropout"
   ]
  },
  {
   "cell_type": "code",
   "execution_count": 8,
   "metadata": {},
   "outputs": [],
   "source": [
    "class Dropout:\n",
    "    def __init__(self, rate):\n",
    "        self.rate = rate\n",
    "\n",
    "    def forward(self, inputs):\n",
    "        self.mask = (np.random.rand(*inputs.shape) > self.rate) / (1 - self.rate)\n",
    "        self.output = inputs * self.mask\n",
    "\n",
    "    def backward(self, d_output):\n",
    "        self.d_inputs = d_output * self.mask\n"
   ]
  },
  {
   "cell_type": "markdown",
   "metadata": {},
   "source": [
    "## 3.5 Softmax "
   ]
  },
  {
   "cell_type": "code",
   "execution_count": 9,
   "metadata": {},
   "outputs": [],
   "source": [
    "class Softmax:\n",
    "    def forward(self, inputs):\n",
    "        exp_values = np.exp(inputs - np.max(inputs, axis=1, keepdims=True))\n",
    "        self.output = exp_values / np.sum(exp_values, axis=1, keepdims=True)\n",
    "\n",
    "    def backward(self, d_values, y_true):\n",
    "        samples = len(d_values)\n",
    "        self.d_inputs = d_values.copy()\n",
    "        self.d_inputs[range(samples), y_true] -= 1\n",
    "        self.d_inputs = self.d_inputs / samples\n"
   ]
  },
  {
   "cell_type": "markdown",
   "metadata": {},
   "source": [
    "## 3.6 Adam Optimizer"
   ]
  },
  {
   "cell_type": "code",
   "execution_count": 10,
   "metadata": {},
   "outputs": [],
   "source": [
    "class AdamOptimizer:\n",
    "    def __init__(self, learning_rate=0.001, beta_1=0.9, beta_2=0.999, epsilon=1e-8):\n",
    "        self.learning_rate = learning_rate\n",
    "        self.beta_1 = beta_1\n",
    "        self.beta_2 = beta_2\n",
    "        self.epsilon = epsilon\n",
    "        self.iterations = 0\n",
    "\n",
    "    def update_params(self, layer):\n",
    "        if not hasattr(layer, 'weight_momentums'):\n",
    "            layer.weight_momentums = np.zeros_like(layer.weights)\n",
    "            layer.weight_cache = np.zeros_like(layer.weights)\n",
    "            layer.bias_momentums = np.zeros_like(layer.biases)\n",
    "            layer.bias_cache = np.zeros_like(layer.biases)\n",
    "\n",
    "        layer.weight_momentums = self.beta_1 * layer.weight_momentums + (1 - self.beta_1) * layer.d_weights\n",
    "        layer.bias_momentums = self.beta_1 * layer.bias_momentums + (1 - self.beta_1) * layer.d_biases\n",
    "        weight_momentums_corrected = layer.weight_momentums / (1 - self.beta_1 ** (self.iterations + 1))\n",
    "        bias_momentums_corrected = layer.bias_momentums / (1 - self.beta_1 ** (self.iterations + 1))\n",
    "\n",
    "        layer.weight_cache = self.beta_2 * layer.weight_cache + (1 - self.beta_2) * layer.d_weights**2\n",
    "        layer.bias_cache = self.beta_2 * layer.bias_cache + (1 - self.beta_2) * layer.d_biases**2\n",
    "        weight_cache_corrected = layer.weight_cache / (1 - self.beta_2 ** (self.iterations + 1))\n",
    "        bias_cache_corrected = layer.bias_cache / (1 - self.beta_2 ** (self.iterations + 1))\n",
    "\n",
    "        layer.weights += -self.learning_rate * weight_momentums_corrected / (np.sqrt(weight_cache_corrected) + self.epsilon)\n",
    "        layer.biases += -self.learning_rate * bias_momentums_corrected / (np.sqrt(bias_cache_corrected) + self.epsilon)\n"
   ]
  },
  {
   "cell_type": "markdown",
   "metadata": {},
   "source": [
    "## 4. Constructing the Neural Network"
   ]
  },
  {
   "cell_type": "code",
   "execution_count": 14,
   "metadata": {},
   "outputs": [],
   "source": [
    "class NeuralNetwork:\n",
    "    def __init__(self, input_size, hidden_layer_size, output_size, learning_rate=0.001):\n",
    "        self.dense1 = DenseLayer(input_size, hidden_layer_size)\n",
    "        self.batch_norm1 = BatchNormalization(hidden_layer_size)\n",
    "        self.activation1 = ReLU()\n",
    "        self.dropout = Dropout(rate=0.2)\n",
    "        self.dense2 = DenseLayer(hidden_layer_size, output_size)\n",
    "        self.softmax = Softmax()\n",
    "        self.optimizer = AdamOptimizer(learning_rate=learning_rate)\n",
    "\n",
    "    def forward(self, X):\n",
    "        self.dense1.forward(X)\n",
    "        self.batch_norm1.forward(self.dense1.output)\n",
    "        self.activation1.forward(self.batch_norm1.output)\n",
    "        self.dropout.forward(self.activation1.output)\n",
    "        self.dense2.forward(self.dropout.output)\n",
    "        self.softmax.forward(self.dense2.output)\n",
    "\n",
    "    def backward(self, y):\n",
    "        self.softmax.backward(self.softmax.output, y)\n",
    "        self.dense2.backward(self.softmax.d_inputs)\n",
    "        self.dropout.backward(self.dense2.d_inputs)\n",
    "        self.activation1.backward(self.dropout.d_inputs)\n",
    "        self.batch_norm1.backward(self.activation1.d_inputs)\n",
    "        self.dense1.backward(self.batch_norm1.d_inputs)\n",
    "\n",
    "        self.optimizer.update_params(self.dense1)\n",
    "        self.optimizer.update_params(self.dense2)\n",
    "\n",
    "    def train(self, X_train, y_train, X_val, y_val, epochs=50, batch_size=64):\n",
    "        history = {'train_loss': [], 'val_loss': [], 'train_acc': [], 'val_acc': [], 'val_f1': []}\n",
    "\n",
    "        for epoch in range(epochs):\n",
    "            indices = np.random.permutation(len(X_train))\n",
    "            X_train_shuffled, y_train_shuffled = X_train[indices], y_train[indices]\n",
    "\n",
    "            for start in range(0, len(X_train), batch_size):\n",
    "                end = start + batch_size\n",
    "                X_batch, y_batch = X_train_shuffled[start:end], y_train_shuffled[start:end]\n",
    "\n",
    "                self.forward(X_batch)\n",
    "                self.backward(y_batch)\n",
    "\n",
    "            train_acc, train_f1, train_loss = self.evaluate(X_train, y_train)\n",
    "            val_acc, val_f1, val_loss = self.evaluate(X_val, y_val)\n",
    "\n",
    "            history['train_loss'].append(train_loss)\n",
    "            history['val_loss'].append(val_loss)\n",
    "            history['train_acc'].append(train_acc)\n",
    "            history['val_acc'].append(val_acc)\n",
    "            history['val_f1'].append(val_f1)\n",
    "\n",
    "            print(f\"Epoch {epoch + 1}/{epochs}:\")\n",
    "            print(f\"Train Loss: {train_loss:.4f}, Train Acc: {train_acc:.2f}%, Val Loss: {val_loss:.4f}, Val Acc: {val_acc:.2f}%, Val Macro-F1: {val_f1:.4f}\")\n",
    "\n",
    "        return history\n",
    "    \n",
    "    def evaluate(self, X, y):\n",
    "        self.forward(X)\n",
    "        predictions = np.argmax(self.softmax.output, axis=1)\n",
    "\n",
    "        accuracy = np.mean(predictions == y) * 100  # accuracy in percentage\n",
    "        f1 = f1_score(y, predictions, average='macro')\n",
    "        loss = self.cross_entropy_loss(y, self.softmax.output)\n",
    "\n",
    "        return accuracy, f1, loss\n",
    "\n",
    "    def cross_entropy_loss(self, y_true, y_pred):\n",
    "        loss = -np.log(y_pred[range(len(y_true)), y_true] + 1e-8)\n",
    "        return np.mean(loss)\n",
    "    \n",
    "    def get_weights(self):\n",
    "        return {\n",
    "            'dense1_weights': self.dense1.weights,\n",
    "            'dense1_biases': self.dense1.biases,\n",
    "            'batch_norm1_gamma': self.batch_norm1.gamma,\n",
    "            'batch_norm1_beta': self.batch_norm1.beta,\n",
    "            'dense2_weights': self.dense2.weights,\n",
    "            'dense2_biases': self.dense2.biases\n",
    "        }\n",
    "    \n",
    "    def set_weights(self, weights):\n",
    "        \"\"\"Set the model's weights from a given dictionary.\"\"\"\n",
    "        self.dense1.weights = weights['dense1_weights']\n",
    "        self.dense1.biases = weights['dense1_biases']\n",
    "        self.batch_norm1.gamma = weights['batch_norm1_gamma']\n",
    "        self.batch_norm1.beta = weights['batch_norm1_beta']\n",
    "        self.dense2.weights = weights['dense2_weights']\n",
    "        self.dense2.biases = weights['dense2_biases']\n",
    "        \n",
    "\n",
    "def plot_metrics(history, learning_rate):\n",
    "    epochs = range(1, len(history['train_loss']) + 1)\n",
    "    \n",
    "    # Loss Plot\n",
    "    plt.figure(figsize=(10, 5))\n",
    "    plt.plot(epochs, history['train_loss'], label=\"Training Loss\")\n",
    "    plt.plot(epochs, history['val_loss'], label=\"Validation Loss\")\n",
    "    plt.title(f\"Loss over Epochs (Learning Rate: {learning_rate})\")\n",
    "    plt.xlabel(\"Epochs\")\n",
    "    plt.ylabel(\"Loss\")\n",
    "    plt.legend()\n",
    "    plt.tight_layout()  \n",
    "    plt.show()  \n",
    "\n",
    "    # Accuracy Plot\n",
    "    plt.figure(figsize=(10, 5))\n",
    "    plt.plot(epochs, history['train_acc'], label=\"Training Accuracy\")\n",
    "    plt.plot(epochs, history['val_acc'], label=\"Validation Accuracy\")\n",
    "    plt.title(f\"Accuracy over Epochs (Learning Rate: {learning_rate})\")\n",
    "    plt.xlabel(\"Epochs\")\n",
    "    plt.ylabel(\"Accuracy\")\n",
    "    plt.legend()\n",
    "    plt.tight_layout()\n",
    "    plt.show()  \n",
    "\n",
    "    # Macro-F1 Score Plot\n",
    "    plt.figure(figsize=(10, 5))\n",
    "    plt.plot(epochs, history['val_f1'], label=\"Validation Macro-F1\", color=\"purple\")\n",
    "    plt.title(f\"Macro-F1 Score over Epochs (Learning Rate: {learning_rate})\")\n",
    "    plt.xlabel(\"Epochs\")\n",
    "    plt.ylabel(\"Macro-F1 Score\")\n",
    "    plt.legend()\n",
    "    plt.tight_layout()\n",
    "    plt.show()  \n",
    "\n"
   ]
  },
  {
   "cell_type": "markdown",
   "metadata": {},
   "source": [
    "## 5. Training the Neural Network"
   ]
  },
  {
   "cell_type": "code",
   "execution_count": null,
   "metadata": {},
   "outputs": [],
   "source": [
    "learning_rates = [0.005, 0.001, 0.0005, 0.0001]\n",
    "hidden_layer_sizes = [64, 128, 256]\n",
    "# learning_rates = [0.005, 0.001]\n",
    "# hidden_layer_sizes = [64, 128]\n",
    "results = []\n",
    "\n",
    "# X_val, y_val = X_train[:5000], y_train[:5000]\n",
    "# X_train_subset, y_train_subset = X_train[5000:], y_train[5000:]\n",
    "from sklearn.model_selection import train_test_split\n",
    "\n",
    "# Split the data into 80% training and 20% validation\n",
    "X_train_subset, X_val, y_train_subset, y_val = train_test_split(X_train, y_train, test_size=0.2, random_state=42)\n",
    "\n",
    "for lr in learning_rates:\n",
    "    for hidden_size in hidden_layer_sizes:\n",
    "        print(f\"\\nTraining model with hidden size {hidden_size} and learning rate {lr}...\\n\")\n",
    "        \n",
    "        network = NeuralNetwork(input_size=784, hidden_layer_size=hidden_size, output_size=10, learning_rate=lr)\n",
    "        \n",
    "        history = network.train(X_train_subset, y_train_subset, X_val, y_val, epochs=20)\n",
    "        results.append((lr, hidden_size, history))\n",
    "\n",
    "        plot_metrics(history, learning_rate=lr)\n",
    "        \n",
    "        val_acc, val_f1, val_loss = network.evaluate(X_val, y_val)\n",
    "        y_val_pred = np.argmax(network.softmax.output, axis=1)\n",
    "        conf_matrix = confusion_matrix(y_val, y_val_pred)\n",
    "        print(f\"Confusion Matrix for Learning Rate: {lr}, Hidden Size: {hidden_size}\")\n",
    "        sns.heatmap(conf_matrix, annot=True, fmt=\"d\", cmap=\"YlGnBu\")\n",
    "        plt.show()\n",
    "\n",
    "\n"
   ]
  },
  {
   "cell_type": "code",
   "execution_count": 19,
   "metadata": {},
   "outputs": [
    {
     "name": "stdout",
     "output_type": "stream",
     "text": [
      "Epoch 1/20:\n",
      "Train Loss: 0.3584, Train Acc: 87.28%, Val Loss: 0.3599, Val Acc: 87.08%, Val Macro-F1: 0.8699\n",
      "Epoch 2/20:\n",
      "Train Loss: 0.3250, Train Acc: 88.27%, Val Loss: 0.3252, Val Acc: 88.35%, Val Macro-F1: 0.8833\n",
      "Epoch 3/20:\n",
      "Train Loss: 0.3042, Train Acc: 89.12%, Val Loss: 0.3069, Val Acc: 89.00%, Val Macro-F1: 0.8894\n",
      "Epoch 4/20:\n",
      "Train Loss: 0.2842, Train Acc: 89.71%, Val Loss: 0.2843, Val Acc: 89.65%, Val Macro-F1: 0.8968\n",
      "Epoch 5/20:\n",
      "Train Loss: 0.2709, Train Acc: 90.33%, Val Loss: 0.2724, Val Acc: 90.08%, Val Macro-F1: 0.9003\n",
      "Epoch 6/20:\n",
      "Train Loss: 0.2619, Train Acc: 90.66%, Val Loss: 0.2634, Val Acc: 90.62%, Val Macro-F1: 0.9063\n",
      "Epoch 7/20:\n",
      "Train Loss: 0.2561, Train Acc: 90.65%, Val Loss: 0.2594, Val Acc: 90.39%, Val Macro-F1: 0.9032\n",
      "Epoch 8/20:\n",
      "Train Loss: 0.2404, Train Acc: 91.46%, Val Loss: 0.2437, Val Acc: 91.13%, Val Macro-F1: 0.9112\n",
      "Epoch 9/20:\n",
      "Train Loss: 0.2286, Train Acc: 91.92%, Val Loss: 0.2290, Val Acc: 91.75%, Val Macro-F1: 0.9171\n",
      "Epoch 10/20:\n",
      "Train Loss: 0.2246, Train Acc: 91.96%, Val Loss: 0.2290, Val Acc: 91.78%, Val Macro-F1: 0.9180\n",
      "Epoch 11/20:\n",
      "Train Loss: 0.2154, Train Acc: 92.31%, Val Loss: 0.2172, Val Acc: 92.22%, Val Macro-F1: 0.9219\n",
      "Epoch 12/20:\n",
      "Train Loss: 0.2130, Train Acc: 92.33%, Val Loss: 0.2150, Val Acc: 91.97%, Val Macro-F1: 0.9193\n",
      "Epoch 13/20:\n",
      "Train Loss: 0.2078, Train Acc: 92.56%, Val Loss: 0.2123, Val Acc: 92.31%, Val Macro-F1: 0.9229\n",
      "Epoch 14/20:\n",
      "Train Loss: 0.1959, Train Acc: 92.97%, Val Loss: 0.1965, Val Acc: 92.91%, Val Macro-F1: 0.9289\n",
      "Epoch 15/20:\n",
      "Train Loss: 0.1992, Train Acc: 92.78%, Val Loss: 0.2003, Val Acc: 92.83%, Val Macro-F1: 0.9282\n",
      "Epoch 16/20:\n",
      "Train Loss: 0.1860, Train Acc: 93.39%, Val Loss: 0.1868, Val Acc: 93.25%, Val Macro-F1: 0.9323\n",
      "Epoch 17/20:\n",
      "Train Loss: 0.1833, Train Acc: 93.56%, Val Loss: 0.1875, Val Acc: 93.12%, Val Macro-F1: 0.9311\n",
      "Epoch 18/20:\n",
      "Train Loss: 0.1792, Train Acc: 93.63%, Val Loss: 0.1822, Val Acc: 93.45%, Val Macro-F1: 0.9343\n",
      "Epoch 19/20:\n",
      "Train Loss: 0.1736, Train Acc: 93.82%, Val Loss: 0.1747, Val Acc: 93.81%, Val Macro-F1: 0.9382\n",
      "Epoch 20/20:\n",
      "Train Loss: 0.1673, Train Acc: 94.10%, Val Loss: 0.1686, Val Acc: 93.99%, Val Macro-F1: 0.9397\n"
     ]
    }
   ],
   "source": [
    "best_network = NeuralNetwork(input_size=784, hidden_layer_size=256, output_size=10, learning_rate=0.001)\n",
    "history = best_network.train(X_train, y_train, X_val, y_val, epochs=20)"
   ]
  },
  {
   "cell_type": "markdown",
   "metadata": {},
   "source": [
    "## 6. Model Saving and Loading"
   ]
  },
  {
   "cell_type": "code",
   "execution_count": 30,
   "metadata": {},
   "outputs": [
    {
     "name": "stdout",
     "output_type": "stream",
     "text": [
      "Model weights saved to 'model_weights_1905095.pickle'.\n",
      "Weights loaded from 'model_weights_1905095.pickle'.\n"
     ]
    }
   ],
   "source": [
    "weights = best_network.get_weights()\n",
    "\n",
    "# Save weights to a file\n",
    "with open('model_1905095.pickle', 'wb') as f:\n",
    "    pickle.dump(weights, f)\n",
    "print(\"Model weights saved to 'model_weights_1905095.pickle'.\")\n",
    "\n",
    "with open('model_1905095.pickle', 'rb') as f:\n",
    "    loaded_weights = pickle.load(f)\n",
    "print(\"Weights loaded from 'model_weights_1905095.pickle'.\")\n"
   ]
  },
  {
   "cell_type": "markdown",
   "metadata": {},
   "source": [
    "## 7. Model Evaluation"
   ]
  },
  {
   "cell_type": "code",
   "execution_count": 70,
   "metadata": {},
   "outputs": [
    {
     "name": "stdout",
     "output_type": "stream",
     "text": [
      "Test Accuracy: 89.08%\n",
      "Macro F1 Score: 0.8900884132113394\n"
     ]
    },
    {
     "data": {
      "image/png": "[encoded data removed]",
      "text/plain": [
       "<Figure size 640x480 with 2 Axes>"
      ]
     },
     "metadata": {},
     "output_type": "display_data"
    }
   ],
   "source": [
    "# Initialize a new model and set its weights\n",
    "loaded_model = NeuralNetwork(input_size=784, hidden_layer_size=256, output_size=10, learning_rate=0.001)\n",
    "loaded_model.set_weights(loaded_weights)\n",
    "\n",
    "loaded_model.forward(X_test)  \n",
    "y_pred = np.argmax(loaded_model.softmax.output, axis=1)  \n",
    "\n",
    "accuracy = np.mean(y_pred == y_test) * 100  \n",
    "f1 = f1_score(y_test, y_pred, average='macro')\n",
    "conf_matrix = confusion_matrix(y_test, y_pred)\n",
    "\n",
    "print(f\"Test Accuracy: {accuracy:.2f}%\")\n",
    "print(f\"Macro F1 Score: {f1}\")\n",
    "sns.heatmap(conf_matrix, annot=True, fmt=\"d\", cmap=\"YlGnBu\")\n",
    "plt.xlabel(\"Predicted\")\n",
    "plt.ylabel(\"Actual\")\n",
    "plt.title(\"Test Confusion Matrix\")\n",
    "plt.show()"
   ]
  },
  {
   "cell_type": "markdown",
   "metadata": {},
   "source": []
  }
 ],
 "metadata": {
  "kernelspec": {
   "display_name": "myenv",
   "language": "python",
   "name": "python3"
  },
  "language_info": {
   "codemirror_mode": {
    "name": "ipython",
    "version": 3
   },
   "file_extension": ".py",
   "mimetype": "text/x-python",
   "name": "python",
   "nbconvert_exporter": "python",
   "pygments_lexer": "ipython3",
   "version": "3.12.5"
  }
 },
 "nbformat": 4,
 "nbformat_minor": 2
}
